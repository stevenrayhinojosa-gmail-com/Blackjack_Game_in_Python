{
  "cells": [
    {
      "cell_type": "markdown",
      "metadata": {
        "id": "view-in-github",
        "colab_type": "text"
      },
      "source": [
        "<a href=\"https://colab.research.google.com/github/stevenrayhinojosa-gmail-com/Blackjack_Game_in_Python/blob/main/Welcome_To_Colab.ipynb\" target=\"_parent\"><img src=\"https://colab.research.google.com/assets/colab-badge.svg\" alt=\"Open In Colab\"/></a>"
      ]
    },
    {
      "cell_type": "markdown",
      "source": [
        "# Marvel AI Forked Repo"
      ],
      "metadata": {
        "id": "9_1nmQx_zqo_"
      }
    },
    {
      "cell_type": "code",
      "execution_count": 22,
      "metadata": {
        "id": "zwFnJsE6vjf8",
        "outputId": "9b2ae0d7-2223-496a-e891-2caf43d57867",
        "colab": {
          "base_uri": "https://localhost:8080/"
        }
      },
      "outputs": [
        {
          "output_type": "stream",
          "name": "stdout",
          "text": [
            "Cloning into 'marvel-ai-backend'...\n",
            "remote: Enumerating objects: 2759, done.\u001b[K\n",
            "remote: Counting objects: 100% (1054/1054), done.\u001b[K\n",
            "remote: Compressing objects: 100% (361/361), done.\u001b[K\n",
            "remote: Total 2759 (delta 870), reused 693 (delta 693), pack-reused 1705 (from 2)\u001b[K\n",
            "Receiving objects: 100% (2759/2759), 7.05 MiB | 13.99 MiB/s, done.\n",
            "Resolving deltas: 100% (1812/1812), done.\n"
          ]
        }
      ],
      "source": [
        "!git clone https://github.com/stevenrayhinojosa-gmail-com/marvel-ai-backend.git"
      ]
    },
    {
      "cell_type": "code",
      "source": [
        "%cd marvel-ai-backend"
      ],
      "metadata": {
        "id": "MRZaPOwS0Ja-",
        "outputId": "8fc2dd9a-9737-499b-a94e-cb0b120848d9",
        "colab": {
          "base_uri": "https://localhost:8080/"
        }
      },
      "execution_count": 23,
      "outputs": [
        {
          "output_type": "stream",
          "name": "stdout",
          "text": [
            "/content/marvel-ai-backend/marvel-ai-backend/marvel-ai-backend/marvel-ai-backend\n"
          ]
        }
      ]
    },
    {
      "cell_type": "code",
      "source": [
        "!git checkout -b stevenhcontribution"
      ],
      "metadata": {
        "id": "hBA6qmWt0Jev",
        "outputId": "96097272-6e43-4fa9-c989-67ec1c7d695e",
        "colab": {
          "base_uri": "https://localhost:8080/"
        }
      },
      "execution_count": 24,
      "outputs": [
        {
          "output_type": "stream",
          "name": "stdout",
          "text": [
            "Switched to a new branch 'stevenhcontribution'\n"
          ]
        }
      ]
    },
    {
      "cell_type": "code",
      "source": [
        "import os\n",
        "\n",
        "# Define the paths, starting from the root of your Colab environment\n",
        "base_path = \"/content/\"  # Root path for Google Colab\n",
        "app_path = os.path.join(base_path, \"app\")\n",
        "features_folder = os.path.join(app_path, \"features\")\n",
        "feature_folder = os.path.join(features_folder, \"text_rewriter\")\n",
        "\n",
        "# Create the folders if they don't exist\n",
        "os.makedirs(app_path, exist_ok=True)\n",
        "os.makedirs(features_folder, exist_ok=True)\n",
        "\n",
        "# Create the files\n",
        "files_to_create = [\"core.py\", \"tools.py\", \"metadata.json\"]\n",
        "for file_name in files_to_create:\n",
        "    file_path = os.path.join(feature_folder, file_name)\n",
        "    with open(file_path, \"w\") as f:\n",
        "        pass  # Create an empty file\n",
        "\n",
        "# Optionally create the prompt folder\n",
        "prompt_folder = os.path.join(feature_folder, \"prompt\")\n",
        "os.makedirs(prompt_folder, exist_ok=True)\n",
        "\n",
        "print(f\"Successfully created files and folders in: {feature_folder}\")\n",
        "\n",
        "# Print current working directory to verify\n",
        "import os\n",
        "print(os.getcwd())"
      ],
      "metadata": {
        "id": "aFXtpxQJjV6x",
        "outputId": "c2e24ab1-6e5d-4183-a3b1-a1b2c7625240",
        "colab": {
          "base_uri": "https://localhost:8080/"
        }
      },
      "execution_count": 25,
      "outputs": [
        {
          "output_type": "stream",
          "name": "stdout",
          "text": [
            "Successfully created files and folders in: /content/app/features/text_rewriter\n",
            "/content/marvel-ai-backend/marvel-ai-backend/marvel-ai-backend/marvel-ai-backend\n"
          ]
        }
      ]
    },
    {
      "cell_type": "code",
      "source": [
        "\n",
        "import os\n",
        "\n",
        "# 1. Create files and folders in Colab environment\n",
        "base_path = \"/content/\"\n",
        "app_path = os.path.join(base_path, \"app\")\n",
        "features_folder = os.path.join(app_path, \"features\")\n",
        "feature_folder = os.path.join(features_folder, \"text_rewriter\")\n",
        "\n",
        "os.makedirs(app_path, exist_ok=True)\n",
        "os.makedirs(features_folder, exist_ok=True)\n",
        "\n",
        "files_to_create = [\"core.py\", \"tools.py\", \"metadata.json\"]\n",
        "for file_name in files_to_create:\n",
        "    file_path = os.path.join(feature_folder, file_name)\n",
        "    with open(file_path, \"w\") as f:\n",
        "        pass\n",
        "\n",
        "prompt_folder = os.path.join(feature_folder, \"prompt\")\n",
        "os.makedirs(prompt_folder, exist_ok=True)\n",
        "\n",
        "print(f\"Successfully created files and folders in: {feature_folder}\")\n",
        "\n",
        "\n",
        "# 2. Move to cloned repository and integrate changes\n",
        "%cd /content/marvel-ai-backend\n",
        "!mv /content/app .\n",
        "\n",
        "# 3. Commit and push to forked repository\n",
        "!git add .\n",
        "!git commit -m \"Develop Text Rewriter Tool - Add files and folders\"\n",
        "!git push origin stevenhcontribution\n",
        "\n",
        "print(\"Changes pushed to forked repository.\")"
      ],
      "metadata": {
        "id": "PlwEAHpDkMfX",
        "outputId": "33cb028c-74c8-4c17-fa76-bdc84acf1126",
        "colab": {
          "base_uri": "https://localhost:8080/"
        }
      },
      "execution_count": 26,
      "outputs": [
        {
          "output_type": "stream",
          "name": "stdout",
          "text": [
            "Successfully created files and folders in: /content/app/features/text_rewriter\n",
            "/content/marvel-ai-backend\n",
            "mv: cannot move '/content/app' to './app': Directory not empty\n",
            "warning: adding embedded git repository: marvel-ai-backend\n",
            "\u001b[33mhint: You've added another git repository inside your current repository.\u001b[m\n",
            "\u001b[33mhint: Clones of the outer repository will not contain the contents of\u001b[m\n",
            "\u001b[33mhint: the embedded repository and will not know how to obtain it.\u001b[m\n",
            "\u001b[33mhint: If you meant to add a submodule, use:\u001b[m\n",
            "\u001b[33mhint: \u001b[m\n",
            "\u001b[33mhint: \tgit submodule add <url> marvel-ai-backend\u001b[m\n",
            "\u001b[33mhint: \u001b[m\n",
            "\u001b[33mhint: If you added this path by mistake, you can remove it from the\u001b[m\n",
            "\u001b[33mhint: index with:\u001b[m\n",
            "\u001b[33mhint: \u001b[m\n",
            "\u001b[33mhint: \tgit rm --cached marvel-ai-backend\u001b[m\n",
            "\u001b[33mhint: \u001b[m\n",
            "\u001b[33mhint: See \"git help submodule\" for more information.\u001b[m\n",
            "Author identity unknown\n",
            "\n",
            "*** Please tell me who you are.\n",
            "\n",
            "Run\n",
            "\n",
            "  git config --global user.email \"you@example.com\"\n",
            "  git config --global user.name \"Your Name\"\n",
            "\n",
            "to set your account's default identity.\n",
            "Omit --global to set the identity only in this repository.\n",
            "\n",
            "fatal: unable to auto-detect email address (got 'root@6f5fc46b11f9.(none)')\n",
            "fatal: could not read Username for 'https://github.com': No such device or address\n",
            "Changes pushed to forked repository.\n"
          ]
        }
      ]
    },
    {
      "cell_type": "code",
      "source": [],
      "metadata": {
        "id": "Cv_MypdtlmYs"
      },
      "execution_count": null,
      "outputs": []
    }
  ],
  "metadata": {
    "colab": {
      "name": "Welcome To Colab",
      "provenance": [],
      "include_colab_link": true
    },
    "kernelspec": {
      "display_name": "Python 3",
      "name": "python3"
    }
  },
  "nbformat": 4,
  "nbformat_minor": 0
}